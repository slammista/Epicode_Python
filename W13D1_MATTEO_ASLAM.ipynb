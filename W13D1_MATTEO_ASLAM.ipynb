{
 "cells": [
  {
   "cell_type": "code",
   "execution_count": 15,
   "id": "383620ab-c121-4457-87f1-b823d60a5524",
   "metadata": {},
   "outputs": [
    {
     "name": "stdout",
     "output_type": "stream",
     "text": [
      "25\n"
     ]
    }
   ],
   "source": [
    "studenti = 25\n",
    "print(studenti)"
   ]
  },
  {
   "cell_type": "code",
   "execution_count": 16,
   "id": "286bdc2d-91aa-4d99-a377-8eae7f14affb",
   "metadata": {},
   "outputs": [
    {
     "name": "stdout",
     "output_type": "stream",
     "text": [
      "28\n"
     ]
    }
   ],
   "source": [
    "nuovi_studenti = studenti+3\n",
    "print(nuovi_studenti)"
   ]
  },
  {
   "cell_type": "code",
   "execution_count": 17,
   "id": "ed813e8c-9462-457f-9e2e-79499e50f26b",
   "metadata": {},
   "outputs": [
    {
     "name": "stdout",
     "output_type": "stream",
     "text": [
      "53\n"
     ]
    }
   ],
   "source": [
    "tot_studenti = nuovi_studenti+studenti\n",
    "print(tot_studenti)"
   ]
  },
  {
   "cell_type": "code",
   "execution_count": 18,
   "id": "9d04dc2c-1467-4a46-8c2e-1cf2a6198af7",
   "metadata": {},
   "outputs": [
    {
     "name": "stdout",
     "output_type": "stream",
     "text": [
      "Epicode\n"
     ]
    }
   ],
   "source": [
    "corso = 'Epicode'\n",
    "print(corso)"
   ]
  },
  {
   "cell_type": "code",
   "execution_count": 25,
   "id": "965dda53-ca57-4475-b510-8d53a75b5bcb",
   "metadata": {},
   "outputs": [
    {
     "name": "stdout",
     "output_type": "stream",
     "text": [
      "36\n"
     ]
    }
   ],
   "source": [
    "x=10\n",
    "x=(x+2)*3\n",
    "print(x)"
   ]
  },
  {
   "cell_type": "code",
   "execution_count": 28,
   "id": "2d94c695-a8d4-40cb-8643-8cd562d96518",
   "metadata": {},
   "outputs": [
    {
     "name": "stdout",
     "output_type": "stream",
     "text": [
      "36\n"
     ]
    }
   ],
   "source": [
    "x=10\n",
    "x+=2\n",
    "x*=3\n",
    "print(x)"
   ]
  },
  {
   "cell_type": "code",
   "execution_count": 31,
   "id": "c3515b8b-619d-4298-a3d9-a64673aa9fa2",
   "metadata": {},
   "outputs": [
    {
     "data": {
      "text/plain": [
       "7"
      ]
     },
     "execution_count": 31,
     "metadata": {},
     "output_type": "execute_result"
    }
   ],
   "source": [
    "str1='Windows'\n",
    "len(str1)"
   ]
  },
  {
   "cell_type": "code",
   "execution_count": 32,
   "id": "f188529b-f92b-4cac-a03f-487bc93c3117",
   "metadata": {},
   "outputs": [
    {
     "data": {
      "text/plain": [
       "5"
      ]
     },
     "execution_count": 32,
     "metadata": {},
     "output_type": "execute_result"
    }
   ],
   "source": [
    "str2='Excel'\n",
    "len(str2)"
   ]
  },
  {
   "cell_type": "code",
   "execution_count": 33,
   "id": "9f56cf51-98cd-4996-b0ce-da4546652343",
   "metadata": {},
   "outputs": [
    {
     "data": {
      "text/plain": [
       "10"
      ]
     },
     "execution_count": 33,
     "metadata": {},
     "output_type": "execute_result"
    }
   ],
   "source": [
    "str3='Powerpoint'\n",
    "len(str3)"
   ]
  },
  {
   "cell_type": "code",
   "execution_count": 34,
   "id": "4deb5281-418f-4ee7-af98-d86095e859c4",
   "metadata": {},
   "outputs": [
    {
     "data": {
      "text/plain": [
       "4"
      ]
     },
     "execution_count": 34,
     "metadata": {},
     "output_type": "execute_result"
    }
   ],
   "source": [
    "str4='Word'\n",
    "len(str4)"
   ]
  },
  {
   "cell_type": "code",
   "execution_count": 35,
   "id": "e1d255e4-912f-471b-8db5-50233746ba2b",
   "metadata": {},
   "outputs": [
    {
     "name": "stdout",
     "output_type": "stream",
     "text": [
      "31536000\n"
     ]
    }
   ],
   "source": [
    "secondi_anno_non_bis=365*24*60*60\n",
    "print(secondi_anno_non_bis)"
   ]
  },
  {
   "cell_type": "code",
   "execution_count": 62,
   "id": "d770eea2-6b3c-4af7-b190-20ec3ccd3d87",
   "metadata": {},
   "outputs": [
    {
     "data": {
      "text/plain": [
       "'I AM STUDYING PYTHON'"
      ]
     },
     "execution_count": 62,
     "metadata": {},
     "output_type": "execute_result"
    }
   ],
   "source": [
    "my_string = 'I am studying Python'\n",
    "str.upper(my_string)"
   ]
  },
  {
   "cell_type": "code",
   "execution_count": 57,
   "id": "70717e0a-4790-4e30-ab2f-04b29c735406",
   "metadata": {},
   "outputs": [
    {
     "data": {
      "text/plain": [
       "'i am studying python'"
      ]
     },
     "execution_count": 57,
     "metadata": {},
     "output_type": "execute_result"
    }
   ],
   "source": [
    "my_string = \"I am studying Python\"\n",
    "str.lower(my_string)"
   ]
  },
  {
   "cell_type": "code",
   "execution_count": 58,
   "id": "0cbdc2fd-8248-4131-8f59-cc472605c275",
   "metadata": {},
   "outputs": [
    {
     "data": {
      "text/plain": [
       "'I am studying a lot'"
      ]
     },
     "execution_count": 58,
     "metadata": {},
     "output_type": "execute_result"
    }
   ],
   "source": [
    "my_string = 'I am studying Python'\n",
    "my_string.replace('Python', 'a lot')"
   ]
  },
  {
   "cell_type": "code",
   "execution_count": 59,
   "id": "8e4063ce-81ad-4356-874c-14fb3dbf9469",
   "metadata": {},
   "outputs": [
    {
     "data": {
      "text/plain": [
       "'I am studying Python'"
      ]
     },
     "execution_count": 59,
     "metadata": {},
     "output_type": "execute_result"
    }
   ],
   "source": [
    "my_string = 'I am studying Python'\n",
    "my_string"
   ]
  },
  {
   "cell_type": "code",
   "execution_count": 60,
   "id": "7253a518-f162-4d5f-8b61-29abd52e8ad6",
   "metadata": {},
   "outputs": [
    {
     "name": "stdout",
     "output_type": "stream",
     "text": [
      "I am studying Python\n"
     ]
    }
   ],
   "source": [
    "my_string= 'I am studying Python'\n",
    "strippedstring=my_string.strip()\n",
    "print(strippedstring)"
   ]
  }
 ],
 "metadata": {
  "kernelspec": {
   "display_name": "Python 3 (ipykernel)",
   "language": "python",
   "name": "python3"
  },
  "language_info": {
   "codemirror_mode": {
    "name": "ipython",
    "version": 3
   },
   "file_extension": ".py",
   "mimetype": "text/x-python",
   "name": "python",
   "nbconvert_exporter": "python",
   "pygments_lexer": "ipython3",
   "version": "3.11.7"
  }
 },
 "nbformat": 4,
 "nbformat_minor": 5
}
