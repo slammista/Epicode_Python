{
  "nbformat": 4,
  "nbformat_minor": 0,
  "metadata": {
    "colab": {
      "provenance": []
    },
    "kernelspec": {
      "name": "python3",
      "display_name": "Python 3"
    },
    "language_info": {
      "name": "python"
    }
  },
  "cells": [
    {
      "cell_type": "markdown",
      "source": [
        "Stampare ogni carattere della stringa, uno su ogni riga, utilizzando costrutto while."
      ],
      "metadata": {
        "id": "s8hkrcdcXHpY"
      }
    },
    {
      "cell_type": "code",
      "execution_count": null,
      "metadata": {
        "colab": {
          "base_uri": "https://localhost:8080/"
        },
        "id": "aAM40afeTyVC",
        "outputId": "ca734e9d-6f9c-4de6-dbe2-136f5ac6e012"
      },
      "outputs": [
        {
          "output_type": "stream",
          "name": "stdout",
          "text": [
            "E\n",
            "p\n",
            "i\n",
            "c\n",
            "o\n",
            "d\n",
            "e\n"
          ]
        }
      ],
      "source": [
        "nome_scuola = \"Epicode\"\n",
        "indice = 0\n",
        "while indice < len(nome_scuola):\n",
        "  print(nome_scuola[indice])\n",
        "  indice +=1"
      ]
    },
    {
      "cell_type": "markdown",
      "source": [
        "Stampare a video tutti i numeri da 0 a 20 utilizzando un costrutto while."
      ],
      "metadata": {
        "id": "ykZrMysBXTaY"
      }
    },
    {
      "cell_type": "code",
      "source": [
        "numero = 0\n",
        "\n",
        "while numero <= 20:\n",
        "  print(numero)\n",
        "  numero+=1"
      ],
      "metadata": {
        "colab": {
          "base_uri": "https://localhost:8080/"
        },
        "id": "e_E1RuqnUC30",
        "outputId": "38296d0d-508a-473f-9b93-bae4d683d297"
      },
      "execution_count": null,
      "outputs": [
        {
          "output_type": "stream",
          "name": "stdout",
          "text": [
            "0\n",
            "1\n",
            "2\n",
            "3\n",
            "4\n",
            "5\n",
            "6\n",
            "7\n",
            "8\n",
            "9\n",
            "10\n",
            "11\n",
            "12\n",
            "13\n",
            "14\n",
            "15\n",
            "16\n",
            "17\n",
            "18\n",
            "19\n",
            "20\n"
          ]
        }
      ]
    },
    {
      "cell_type": "markdown",
      "source": [
        "Calcolare e stampare tutte le prime 10 potenze di 2 utilizzando un ciclo while."
      ],
      "metadata": {
        "id": "-3jCT4uDXb3v"
      }
    },
    {
      "cell_type": "code",
      "source": [
        "numero = 2\n",
        "esponente = 0\n",
        "\n",
        "while esponente <= 10:\n",
        "  print(numero**esponente)\n",
        "  esponente +=1"
      ],
      "metadata": {
        "colab": {
          "base_uri": "https://localhost:8080/"
        },
        "id": "1nFM_uj4UQ50",
        "outputId": "53e47c5e-899f-4fb8-cbf3-d3c213f4c137"
      },
      "execution_count": null,
      "outputs": [
        {
          "output_type": "stream",
          "name": "stdout",
          "text": [
            "1\n",
            "2\n",
            "4\n",
            "8\n",
            "16\n",
            "32\n",
            "64\n",
            "128\n",
            "256\n",
            "512\n",
            "1024\n"
          ]
        }
      ]
    },
    {
      "cell_type": "markdown",
      "source": [
        "Calcolare e stampare tutte le prime N potenze di 2 utilizzando un ciclo while."
      ],
      "metadata": {
        "id": "6Pt2k72RXlSJ"
      }
    },
    {
      "cell_type": "code",
      "source": [
        "numero = 2\n",
        "n = int(input(\"Inserire l'esponente:\"))\n",
        "potenza = 0\n",
        "while potenza <= n:\n",
        "  print(numero**potenza)\n",
        "  potenza +=1"
      ],
      "metadata": {
        "colab": {
          "base_uri": "https://localhost:8080/"
        },
        "id": "eqj7FNS0UbWb",
        "outputId": "3604e150-5d8a-4b5d-cee0-c8bb7ecf9c85"
      },
      "execution_count": null,
      "outputs": [
        {
          "output_type": "stream",
          "name": "stdout",
          "text": [
            "Inserire l'esponente:2\n",
            "1\n",
            "2\n",
            "4\n"
          ]
        }
      ]
    },
    {
      "cell_type": "code",
      "source": [
        "numero = 2\n",
        "stringa = input(\"Inserire l'esponente:\")\n",
        "lista = stringa.split (\",\")\n",
        "for i in lista:\n",
        "  print(numero**int(i))\n"
      ],
      "metadata": {
        "colab": {
          "base_uri": "https://localhost:8080/"
        },
        "id": "fQktpvBSZqlk",
        "outputId": "dc9098a7-5fe0-4d2d-9ac2-d505e3d0b298"
      },
      "execution_count": null,
      "outputs": [
        {
          "output_type": "stream",
          "name": "stdout",
          "text": [
            "Inserire l'esponente:3,4,5\n",
            "8\n",
            "16\n",
            "32\n"
          ]
        }
      ]
    },
    {
      "cell_type": "markdown",
      "source": [
        "Aggiungere i dati mancanti alla lista corsi"
      ],
      "metadata": {
        "id": "jc67VMCqXsBx"
      }
    },
    {
      "cell_type": "code",
      "source": [
        "studenti = [\"Alex\", \"Bob\", \"Cindy\", \"Dan\", \"Emma\", \"Faith\", \"Grace\", \"Henry\"]\n",
        "corsi = [\"Cybersecurity\", \"Data Analyst\", \"Backend\", \"Frontend\", \"Data Analyst\", \"Backend\"]\n",
        "\n",
        "nuovi_studenti = [\"Data Analyst\", \"Backend\", \"Frontend\", \"Cybersecurity\"]\n",
        "corsi.extend(nuovi_studenti)\n",
        "print(studenti, corsi)"
      ],
      "metadata": {
        "colab": {
          "base_uri": "https://localhost:8080/"
        },
        "id": "TrxGt8u-VY1f",
        "outputId": "a4432435-d82b-443b-8fcd-6c9635ca4a85"
      },
      "execution_count": null,
      "outputs": [
        {
          "output_type": "stream",
          "name": "stdout",
          "text": [
            "['Alex', 'Bob', 'Cindy', 'Dan', 'Emma', 'Faith', 'Grace', 'Henry'] ['Cybersecurity', 'Data Analyst', 'Backend', 'Frontend', 'Data Analyst', 'Backend', 'Data Analyst', 'Backend', 'Frontend', 'Cybersecurity']\n"
          ]
        }
      ]
    },
    {
      "cell_type": "markdown",
      "source": [
        "Calcolare e stampare tutte le potenze di 2 minori di 25000"
      ],
      "metadata": {
        "id": "erctxKBtj651"
      }
    },
    {
      "cell_type": "code",
      "source": [
        "limite = 25000\n",
        "esponente = 0\n",
        "potenza = 0\n",
        "\n",
        "while potenza < limite:\n",
        "  potenza = 2**esponente\n",
        "\n",
        "  if potenza < limite:\n",
        "    print(potenza)\n",
        "    esponente+=1"
      ],
      "metadata": {
        "id": "kwSQn3ixXFoY",
        "colab": {
          "base_uri": "https://localhost:8080/"
        },
        "outputId": "6cb190fa-bdab-4759-b840-c0a91855d04f"
      },
      "execution_count": null,
      "outputs": [
        {
          "output_type": "stream",
          "name": "stdout",
          "text": [
            "1\n",
            "2\n",
            "4\n",
            "8\n",
            "16\n",
            "32\n",
            "64\n",
            "128\n",
            "256\n",
            "512\n",
            "1024\n",
            "2048\n",
            "4096\n",
            "8192\n",
            "16384\n"
          ]
        }
      ]
    },
    {
      "cell_type": "markdown",
      "source": [
        "Scriviamo un programma che chiede in input all'utente una stringa e visualizza i primi 3 caratteri, seguiti da 3 punti di sospensione e quindi gli ultimi 3 caratteri, similmente all'esercizio della lezione scorsa. Stavolta facciamo attenzione a tutti i casi particolari, ovvero implementare soluzioni ad hoc per stringhe di lunghezza inferiore a 6 caratteri.\n",
        "\n",
        "\n"
      ],
      "metadata": {
        "id": "ePj-tWtdoXzt"
      }
    },
    {
      "cell_type": "code",
      "source": [
        "stringa = input(\"inserisci una stringa:\")\n",
        "output = stringa[0:3]+\"...\"+stringa[3:50]\n",
        "#andando ad impostare un valore di index alto avrò pochi problemi se la parte successiva della stringa è piu lunga\n",
        "if len(stringa) < 6:\n",
        "  print(\"Errore, la stringa deve essere almeno di 6 caratteri.\")\n",
        "else:\n",
        "  print(output)"
      ],
      "metadata": {
        "colab": {
          "base_uri": "https://localhost:8080/"
        },
        "id": "mS8t6UnzuBYl",
        "outputId": "2231376a-d674-47af-f3fa-ef73a5088f46"
      },
      "execution_count": null,
      "outputs": [
        {
          "output_type": "stream",
          "name": "stdout",
          "text": [
            "inserisci una stringa:Marcello\n",
            "Mar...cello\n"
          ]
        }
      ]
    },
    {
      "cell_type": "markdown",
      "source": [
        "Memorizza e stampa tutti i fattori di un numero dato in input. Esempio: • input: 150 • output: [2, 3, 5, 5]"
      ],
      "metadata": {
        "id": "m6WyIIAU3WeB"
      }
    },
    {
      "cell_type": "code",
      "source": [
        "fattori = []\n",
        "numero = int(input(\"Inserisci un numero: \"))\n",
        "for i in range(1, numero + 1):\n",
        "    if numero % i == 0:\n",
        "      fattori.append(i)\n",
        "print(f'Questi sono i fattori del numero: {numero} : {fattori}')\n",
        "\n"
      ],
      "metadata": {
        "colab": {
          "base_uri": "https://localhost:8080/"
        },
        "id": "kJDjK9tv3qhk",
        "outputId": "bc953b34-f3c2-4887-c0f7-70dadbb523e3"
      },
      "execution_count": null,
      "outputs": [
        {
          "output_type": "stream",
          "name": "stdout",
          "text": [
            "Inserisci un numero: 150\n",
            "Questi sono i fattori del numero: 150 : [1, 2, 3, 5, 6, 10, 15, 25, 30, 50, 75, 150]\n"
          ]
        }
      ]
    },
    {
      "cell_type": "markdown",
      "source": [
        "Abbiamo la stringa: nome_scuola = \"Epicode\" Stampare ogni carattere della stringa, uno su ogni riga, utilizzando un costrutto for."
      ],
      "metadata": {
        "id": "9oBdstBT40AF"
      }
    },
    {
      "cell_type": "code",
      "source": [
        "nome_scuola = 'Epicode'\n",
        "for lettera in nome_scuola:\n",
        "  print(lettera)"
      ],
      "metadata": {
        "colab": {
          "base_uri": "https://localhost:8080/"
        },
        "id": "rN_bCdPL42pM",
        "outputId": "61b5a693-4c35-4840-8cf4-7659a3cb405c"
      },
      "execution_count": null,
      "outputs": [
        {
          "output_type": "stream",
          "name": "stdout",
          "text": [
            "E\n",
            "p\n",
            "i\n",
            "c\n",
            "o\n",
            "d\n",
            "e\n"
          ]
        }
      ]
    },
    {
      "cell_type": "markdown",
      "source": [
        "Calcolare e stampare tutte le prime 10 potenze di 2 utilizzando un ciclo. Utilizzeremo: • un ciclo per generare i primi 10 numeri, e.g.: range_numerico = list()  # init num = 1  # init while num <= 10: range_numerico.append(num) num += 1"
      ],
      "metadata": {
        "id": "qj-RLZH74-yj"
      }
    },
    {
      "cell_type": "code",
      "source": [
        "range_numerico = list() #init\n",
        "num = 1 #init\n",
        "while num <= 10:\n",
        "  range_numerico.append(num)\n",
        "  num+=1\n",
        "\n",
        "for numero in range_numerico:\n",
        "  print(2**numero)"
      ],
      "metadata": {
        "colab": {
          "base_uri": "https://localhost:8080/"
        },
        "id": "nuMhWjHK5FJc",
        "outputId": "796c58b9-5f55-4c4d-fa2c-710a57dc62f7"
      },
      "execution_count": null,
      "outputs": [
        {
          "output_type": "stream",
          "name": "stdout",
          "text": [
            "2\n",
            "4\n",
            "8\n",
            "16\n",
            "32\n",
            "64\n",
            "128\n",
            "256\n",
            "512\n",
            "1024\n"
          ]
        }
      ]
    },
    {
      "cell_type": "markdown",
      "source": [
        "Calcolare (ma non stampare) le prime N potenze di K; ognuna di esse andrà memorizzata in coda a una lista. Alla fine, stampare la lista risultante. Proviamo con diversi valori di K, oppure facciamola inserire all'utente. Realizzare due versioni: • con un ciclo while, • con un ciclo for."
      ],
      "metadata": {
        "id": "guuLmPFN53c0"
      }
    },
    {
      "cell_type": "code",
      "source": [
        "k = int(input('Inserisci valore:'))\n",
        "k_list=[]\n",
        "esponente = 0\n",
        "while esponente <= k:\n",
        "  potenza = (2 ** esponente)\n",
        "  k_list.append(potenza)\n",
        "  print(k_list)\n",
        "  esponente+=1"
      ],
      "metadata": {
        "colab": {
          "base_uri": "https://localhost:8080/"
        },
        "id": "7hq7apxO5cd9",
        "outputId": "6f8488c7-e7c8-4f0b-8b62-ae02606f4349"
      },
      "execution_count": null,
      "outputs": [
        {
          "output_type": "stream",
          "name": "stdout",
          "text": [
            "Inserisci valore:10\n",
            "[1]\n",
            "[1, 2]\n",
            "[1, 2, 4]\n",
            "[1, 2, 4, 8]\n",
            "[1, 2, 4, 8, 16]\n",
            "[1, 2, 4, 8, 16, 32]\n",
            "[1, 2, 4, 8, 16, 32, 64]\n",
            "[1, 2, 4, 8, 16, 32, 64, 128]\n",
            "[1, 2, 4, 8, 16, 32, 64, 128, 256]\n",
            "[1, 2, 4, 8, 16, 32, 64, 128, 256, 512]\n",
            "[1, 2, 4, 8, 16, 32, 64, 128, 256, 512, 1024]\n"
          ]
        }
      ]
    },
    {
      "cell_type": "code",
      "source": [
        "k = int(input('Inserisci Valore:'))\n",
        "k_list = []\n",
        "\n",
        "for esponente in range(k+1):\n",
        "  potenza = 2 ** esponente\n",
        "  k_list.append(potenza)\n",
        "  print(k_list)"
      ],
      "metadata": {
        "colab": {
          "base_uri": "https://localhost:8080/"
        },
        "id": "D2u9WD_cCmho",
        "outputId": "7bb8ca94-04f6-464a-eb15-514747efb825"
      },
      "execution_count": null,
      "outputs": [
        {
          "output_type": "stream",
          "name": "stdout",
          "text": [
            "Inserisci Valore:10\n",
            "[1]\n",
            "[1, 2]\n",
            "[1, 2, 4]\n",
            "[1, 2, 4, 8]\n",
            "[1, 2, 4, 8, 16]\n",
            "[1, 2, 4, 8, 16, 32]\n",
            "[1, 2, 4, 8, 16, 32, 64]\n",
            "[1, 2, 4, 8, 16, 32, 64, 128]\n",
            "[1, 2, 4, 8, 16, 32, 64, 128, 256]\n",
            "[1, 2, 4, 8, 16, 32, 64, 128, 256, 512]\n",
            "[1, 2, 4, 8, 16, 32, 64, 128, 256, 512, 1024]\n"
          ]
        }
      ]
    },
    {
      "cell_type": "markdown",
      "source": [
        "Abbiamo una lista con i guadagni degli ultimi 12 mesi: usando un costrutto for, calcolare la media dei guadagni e stamparla a video."
      ],
      "metadata": {
        "id": "mrIDvTFMGoq0"
      }
    },
    {
      "cell_type": "code",
      "source": [
        "guadagni = [100, 90, 70, 40, 50, 80, 90, 120, 80, 20, 50, 50]\n",
        "\n",
        "\n",
        "somma = 0\n",
        "for guadagno in guadagni:\n",
        "  somma += guadagno\n",
        "\n",
        "media = somma / len(guadagni)\n",
        "print(media)"
      ],
      "metadata": {
        "colab": {
          "base_uri": "https://localhost:8080/"
        },
        "id": "RcfmQOX4Gvw8",
        "outputId": "7d37ea5d-384c-46c3-8084-688659aa3dd8"
      },
      "execution_count": null,
      "outputs": [
        {
          "output_type": "stream",
          "name": "stdout",
          "text": [
            "70.0\n"
          ]
        }
      ]
    },
    {
      "cell_type": "markdown",
      "source": [
        "Abbiamo una lista di parole: parole = [\"Albergo\", \"Sedia\", \"Borgo\", \"Petalo\", \"Eremo\", \"Belvedere\", \"Semestre\", \"Esteta\", \"Sosta\", \"Orpello\", \"Abete\", \"Orologio\", \"Cesta\", \"Ermellino\"] stampiamo, per ogni parola, quante volte appare la lettera \"e\"; facciamo attenzione al fatto che appare sia maiuscola che minuscola."
      ],
      "metadata": {
        "id": "t8Dlc3lpIJps"
      }
    },
    {
      "cell_type": "code",
      "source": [
        "parole = [\"Albergo\", \"Sedia\", \"Borgo\", \"Petalo\", \"Eremo\", \"Belvedere\", \"Semestre\", \"Esteta\", \"Sosta\", \"Orpello\", \"Abete\", \"Orologio\", \"Cesta\", \"Ermellino\"]\n",
        "for parola in parole:\n",
        "  minuscola = parola.lower()\n",
        "  numero_e = minuscola.count(\"e\")\n",
        "  print(parola + \": \" + str(numero_e))"
      ],
      "metadata": {
        "colab": {
          "base_uri": "https://localhost:8080/"
        },
        "id": "AOEmPTVpJC11",
        "outputId": "8a6fccac-1818-456b-d6ba-eb62e5e4cf71"
      },
      "execution_count": null,
      "outputs": [
        {
          "output_type": "stream",
          "name": "stdout",
          "text": [
            "Albergo: 1\n",
            "Sedia: 1\n",
            "Borgo: 0\n",
            "Petalo: 1\n",
            "Eremo: 2\n",
            "Belvedere: 4\n",
            "Semestre: 3\n",
            "Esteta: 2\n",
            "Sosta: 0\n",
            "Orpello: 1\n",
            "Abete: 2\n",
            "Orologio: 0\n",
            "Cesta: 1\n",
            "Ermellino: 2\n"
          ]
        }
      ]
    },
    {
      "cell_type": "markdown",
      "source": [
        "Creiamo un dizionario che assegni ad ogni proprietario la sua auto, sapendo che: • Ada guida una Punto • Ben guida una Multipla • Charlie guida una Golf • Debbie guida una 107 Stampiamo il dizionario per intero, e poi l'auto associata a Debbie."
      ],
      "metadata": {
        "id": "ynC5KK3oR4z6"
      }
    },
    {
      "cell_type": "code",
      "source": [
        "macchine = {\"Ada\":\"Punto\", \"Ben\":\"Multipla\", \"Charlie\":\"Golf\", \"Debbie\":\"107\"}\n",
        "print(macchine)\n",
        "print(macchine[\"Debbie\"])"
      ],
      "metadata": {
        "colab": {
          "base_uri": "https://localhost:8080/"
        },
        "id": "YOxo2KCiR5kt",
        "outputId": "4db0639e-4ece-4e54-f921-6ce43fa24c16"
      },
      "execution_count": null,
      "outputs": [
        {
          "output_type": "stream",
          "name": "stdout",
          "text": [
            "{'Ada': 'Punto', 'Ben': 'Multipla', 'Charlie': 'Golf', 'Debbie': '107'}\n",
            "107\n"
          ]
        }
      ]
    },
    {
      "cell_type": "markdown",
      "source": [
        "Abbiamo un dizionario che assegna ad ogni proprietario la sua auto: dizionario_auto = {\"Ada\": \"Punto\", \"Ben\": \"Multipla\", \"Charlie\": \"Golf\", \"Debbie\": \"107\"} Con un ciclo, e usando il metodo .values(), stampiamo a video tutte le auto che non sono una Multipla."
      ],
      "metadata": {
        "id": "jgZ9q6y2j2cY"
      }
    },
    {
      "cell_type": "markdown",
      "source": [],
      "metadata": {
        "id": "Gd6Io7KSp14I"
      }
    },
    {
      "cell_type": "code",
      "source": [
        "dizionario_auto = {\"Ada\": \"Punto\", \"Ben\": \"Multipla\", \"Charlie\": \"Golf\", \"Debbie\": \"107\"}\n",
        "for auto in dizionario_auto.values():\n",
        "  if auto != 'Multipla':\n",
        "    print(auto)"
      ],
      "metadata": {
        "colab": {
          "base_uri": "https://localhost:8080/"
        },
        "id": "0hGVI5Ozmwm5",
        "outputId": "0e42e106-24ca-4a17-9ccc-bf2d239d3c41"
      },
      "execution_count": null,
      "outputs": [
        {
          "output_type": "stream",
          "name": "stdout",
          "text": [
            "Punto\n",
            "Golf\n",
            "107\n"
          ]
        }
      ]
    },
    {
      "cell_type": "markdown",
      "source": [
        "Abbiamo due dizionari che assegnano ad ogni proprietario la propria auto: dizionario_auto = {\"Ada\": \"Punto\", \"Ben\": \"Multipla\", \"Charlie\": \"Golf\", \"Debbie\": \"107\", \"Emily\": \"A1\"} nuovi_proprietari = {\"Ben\": \"Polo\", \"Fred\": \"Octavia\", \"Grace\": \"Yaris\", \"Hugh\": \"Clio\"} Aggiornare il dizionario dizionario_auto con i dati contenuti in nuovi_proprietari e stamparlo. Cosa è successo a Ben?"
      ],
      "metadata": {
        "id": "NMRRf_dLqiLq"
      }
    },
    {
      "cell_type": "code",
      "source": [
        "dizionario_auto = {\"Ada\": \"Punto\", \"Ben\": \"Multipla\", \"Charlie\": \"Golf\", \"Debbie\": \"107\", \"Emily\": \"A1\"}\n",
        "nuovi_proprietari = {\"Ben\": \"Polo\", \"Fred\": \"Octavia\", \"Grace\": \"Yaris\", \"Hugh\": \"Clio\"}\n",
        "dizionario_auto.update(nuovi_proprietari)\n",
        "print(dizionario_auto)"
      ],
      "metadata": {
        "colab": {
          "base_uri": "https://localhost:8080/"
        },
        "id": "ahIYcwQIo73j",
        "outputId": "bba57f1b-c3a6-47ff-8358-f22637ccd278"
      },
      "execution_count": null,
      "outputs": [
        {
          "output_type": "stream",
          "name": "stdout",
          "text": [
            "{'Ada': 'Punto', 'Ben': 'Polo', 'Charlie': 'Golf', 'Debbie': '107', 'Emily': 'A1', 'Fred': 'Octavia', 'Grace': 'Yaris', 'Hugh': 'Clio'}\n"
          ]
        }
      ]
    },
    {
      "cell_type": "markdown",
      "source": [
        "Ben non viene ripetuto ma inglobato nel record precedente"
      ],
      "metadata": {
        "id": "S2iOwEBXq4xp"
      }
    },
    {
      "cell_type": "markdown",
      "source": [
        "Osservando la sintassi dei dizionari, possiamo notare qualche affinità con il formato JSON?\n",
        "\n",
        "**Si, possiamo notare una somiglianza specie nel collegamento di una chiave con il suo item divisi da un separatore, anche quello simile in Json**"
      ],
      "metadata": {
        "id": "gcUadEaYq8WA"
      }
    },
    {
      "cell_type": "markdown",
      "source": [
        "Scrivere un programma che, data una lista di numeri, fornisca in output il minimo e il massimo (possiamo usare o meno le funzioni built-in min() e max())"
      ],
      "metadata": {
        "id": "M2d4UqHCrj1Z"
      }
    },
    {
      "cell_type": "code",
      "source": [
        "lista = [1, 2, 3, 4, 5, 6, 7, 8, 9, 10]\n",
        "massimo = max(lista)\n",
        "minimo = min(lista)\n",
        "print(f'Il valore massimo è: {massimo}; Il valore minimo è: {minimo}')"
      ],
      "metadata": {
        "colab": {
          "base_uri": "https://localhost:8080/"
        },
        "id": "oXBtuq1v1ASC",
        "outputId": "8e3f465e-d1a5-4b85-d8e9-4b943cf6f819"
      },
      "execution_count": null,
      "outputs": [
        {
          "output_type": "stream",
          "name": "stdout",
          "text": [
            "Il valore massimo è: 10; Il valore minimo è: 1\n"
          ]
        }
      ]
    },
    {
      "cell_type": "markdown",
      "source": [
        "Scrivere un programma che, data una lista di numeri, fornisca in output i tre numeri più grandi; gestire il caso in cui la lista sia più corta di tre, e quando uno o più dei numeri selezionati sono uguali."
      ],
      "metadata": {
        "id": "-dSOl1twzUk8"
      }
    },
    {
      "cell_type": "code",
      "source": [
        "lista_di_numeri = [10, 5, 8, 15, 12, 10, 20]\n",
        "lista_di_numeri.sort(reverse=True)\n",
        "tre_massimi=lista_di_numeri[:3]\n",
        "if len(lista_di_numeri) < 3:\n",
        "  print('Lista troppo corta')\n",
        "else:\n",
        "  print(tre_massimi)"
      ],
      "metadata": {
        "colab": {
          "base_uri": "https://localhost:8080/"
        },
        "id": "H0A6Z-Xv0Jzh",
        "outputId": "22cd7cbf-4aa9-42a6-ba2e-bd94bfe467dc"
      },
      "execution_count": null,
      "outputs": [
        {
          "output_type": "stream",
          "name": "stdout",
          "text": [
            "[20, 15, 12]\n"
          ]
        }
      ]
    },
    {
      "cell_type": "markdown",
      "source": [
        "Scrivere un programma che\n",
        "• in input acquisisce una lista di numeri e un numero K\n",
        "• in output, dovrà restituire la media di tutti i numeri nella lista maggiori o uguali a K\n",
        "• se non ce ne dovesse essere nessuno, dovrà stampare a schermo un messaggio\n",
        "adeguato."
      ],
      "metadata": {
        "id": "OZizcSn2APaE"
      }
    },
    {
      "cell_type": "code",
      "source": [],
      "metadata": {
        "id": "rd8ED8xbAucU"
      },
      "execution_count": null,
      "outputs": []
    },
    {
      "cell_type": "code",
      "source": [
        "  lista = []\n",
        "  numero = input(\"Inserisci un numero (termina con 0): \")\n",
        "  while numero != \"0\":\n",
        "    lista.append(int(numero))\n",
        "    numero = input(\"Inserisci un numero (termina con 0): \")\n",
        "\n",
        "  # Acquisisci il numero K\n",
        "  k = int(input(\"Inserisci il numero K: \"))\n",
        "\n",
        "  # Calcola la somma e il numero di numeri maggiori o uguali a K\n",
        "  somma = 0\n",
        "  numero_elementi = 0\n",
        "  for numero in lista:\n",
        "    if numero >= k:\n",
        "      somma += numero\n",
        "      numero_elementi += 1\n",
        "\n",
        "  # Se non ci sono numeri maggiori o uguali a K\n",
        "  if numero_elementi == 0:\n",
        "    print(\"Nessun numero maggiore o uguale a K\")\n",
        "  else:\n",
        "    # Calcola la media\n",
        "    media = somma / numero_elementi\n",
        "    print(f\"La media dei numeri maggiori o uguali a {k} è: {media}\")\n"
      ],
      "metadata": {
        "colab": {
          "base_uri": "https://localhost:8080/"
        },
        "id": "5riD11hQAVn0",
        "outputId": "748421d4-e93e-4d72-9e53-0d11be04d063"
      },
      "execution_count": null,
      "outputs": [
        {
          "output_type": "stream",
          "name": "stdout",
          "text": [
            "Inserisci un numero (termina con 0): 10\n",
            "Inserisci un numero (termina con 0): 20\n",
            "Inserisci un numero (termina con 0): 40\n",
            "Inserisci un numero (termina con 0): 155\n",
            "Inserisci un numero (termina con 0): 0\n",
            "Inserisci il numero K: 25\n",
            "La media dei numeri maggiori o uguali a 25 è: 97.5\n"
          ]
        }
      ]
    },
    {
      "cell_type": "markdown",
      "source": [
        "Scrivere un programma che, data una lista di numeri, come output stamperà lo stesso numero di asterischi su righe diverse, ottenendo una semplice visualizzazione grafica Esempio, supponendo di avere il seguente input: numeri = [5, 2, 3, 4] L'output sarà: ***** ** *** ****"
      ],
      "metadata": {
        "id": "ggHlHUJnJJvz"
      }
    },
    {
      "cell_type": "code",
      "source": [
        "numeri =[5,2,3,4]\n",
        "indice = 0\n",
        "for numero in numeri:\n",
        "  print(\"*\" * numero)"
      ],
      "metadata": {
        "colab": {
          "base_uri": "https://localhost:8080/"
        },
        "id": "d-oo5Ke-JMW6",
        "outputId": "cc8420cd-28ff-48c4-fd84-8c6800d990b1"
      },
      "execution_count": null,
      "outputs": [
        {
          "output_type": "stream",
          "name": "stdout",
          "text": [
            "*****\n",
            "**\n",
            "***\n",
            "****\n"
          ]
        }
      ]
    },
    {
      "cell_type": "markdown",
      "source": [
        "Abbiamo una lista di codici fiscali: lista_cf = [\"ABCDEF95G01A123B\", \"GHIJKL91M02A321C\", \"MNOPQR89S03A456D\", \"STUVWX95Z04A654E\", \"XYZABC01D05A789F\", \"DEFGHI95J06A987G\"] • trovare i codici fiscali che contengono \"95\", metterli in una lista, e alla fine stamparla; • inoltre, per ognuno di essi, stampare a video i caratteri relativi al nome e quelli relativi al cognome."
      ],
      "metadata": {
        "id": "ahmkqO8yJ7JC"
      }
    },
    {
      "cell_type": "code",
      "source": [
        " lista_cf = [\"ABCDEF95G01A123B\", \"GHIJKL91M02A321C\", \"MNOPQR89S03A456D\", \"STUVWX95Z04A654E\", \"XYZABC01D05A789F\", \"DEFGHI95J06A987G\"]\n",
        " lista_95 = []\n",
        " for cf in lista_cf:\n",
        "  if '95' in cf:\n",
        "    lista_95.append(cf)\n",
        "print(lista_95)\n",
        "nome = cf[0:3]\n",
        "cognome = cf[3:6]\n",
        "print(f'Codice Fiscale: {cf}, Nome: {nome}, Cognome:{cognome}')"
      ],
      "metadata": {
        "colab": {
          "base_uri": "https://localhost:8080/"
        },
        "id": "ifzG4AOhJ_Vq",
        "outputId": "1d7b08b8-2188-4723-9c1c-61abe25f0d80"
      },
      "execution_count": null,
      "outputs": [
        {
          "output_type": "stream",
          "name": "stdout",
          "text": [
            "['ABCDEF95G01A123B', 'STUVWX95Z04A654E', 'DEFGHI95J06A987G']\n",
            "Codice Fiscale: DEFGHI95J06A987G, Nome: DEF, Cognome:GHI\n"
          ]
        }
      ]
    },
    {
      "cell_type": "markdown",
      "source": [
        "Abbiamo tre liste della stessa lunghezza, dove ogni elemento nella medesima posizione si riferisce ai dati dello stesso studente: studenti = [\"Alex\", \"Bob\", \"Cindy\", \"Dan\", \"Emma\", \"Faith\", \"Grace\", \"Henry\"]\n",
        "corsi = [\"Cybersecurity\", \"Data Analyst\", \"Backend\", \"Frontend\", \"Data Analyst\", \"Backend\", \"Frontend\", \"Cybersecurity\"]\n",
        "edizioni = [1, 2, 3, 2, 2, 1, 3, 3]\n",
        "• Stampare a video tutti e soli gli studenti che frequentano una prima edizione; non tutti i dati potrebbero essere necessari."
      ],
      "metadata": {
        "id": "n9B7Hr5qK-Ej"
      }
    },
    {
      "cell_type": "code",
      "source": [
        "studenti = [\"Alex\", \"Bob\", \"Cindy\", \"Dan\", \"Emma\", \"Faith\", \"Grace\", \"Henry\"]\n",
        "corsi = [\"Cybersecurity\", \"Data Analyst\", \"Backend\", \"Frontend\", \"Data Analyst\", \"Backend\", \"Frontend\", \"Cybersecurity\"]\n",
        "edizioni = [1, 2, 3, 2, 2, 1, 3, 3]\n",
        "for i in range(len(studenti)):\n",
        "  if edizioni[i] == 1:\n",
        "    print(f'-{studenti[i]}')"
      ],
      "metadata": {
        "colab": {
          "base_uri": "https://localhost:8080/"
        },
        "id": "uEp7rLBHM3v5",
        "outputId": "04412120-2f9c-4f10-bed5-cdec82a337f0"
      },
      "execution_count": null,
      "outputs": [
        {
          "output_type": "stream",
          "name": "stdout",
          "text": [
            "-Alex\n",
            "-Faith\n"
          ]
        }
      ]
    },
    {
      "cell_type": "markdown",
      "source": [
        "Abbiamo una lista di stringhe di prezzi in dollari, che erroneamente sono stati scritti con il simbolo dell'euro: prezzi = [\"100 €\", \"200 €\", \"500 €\", \"10 €\", \"50 €\", \"70 €\"] cambiare il simbolo dell'euro (€) in quello del dollaro ($) per ogni stringa nella lista; il risultato sarà memorizzato in un'altra lista.\n",
        "\n"
      ],
      "metadata": {
        "id": "5CAmSetjEJgQ"
      }
    },
    {
      "cell_type": "code",
      "source": [
        "prezzi = [\"100 €\", \"200 €\", \"500 €\", \"10 €\", \"50 €\", \"70 €\"]\n",
        "prezzi_dollari=[]\n",
        "for prezzo in prezzi:\n",
        "  nuovo_prezzo = prezzo.replace(\"€\", \"$\")\n",
        "  prezzi_dollari.append(nuovo_prezzo)\n",
        "prezzi_dollari"
      ],
      "metadata": {
        "colab": {
          "base_uri": "https://localhost:8080/"
        },
        "id": "cwPS59p-EM5w",
        "outputId": "90cbba35-42bc-4754-b92a-db6e249b3ac5"
      },
      "execution_count": 5,
      "outputs": [
        {
          "output_type": "execute_result",
          "data": {
            "text/plain": [
              "['100 $', '200 $', '500 $', '10 $', '50 $', '70 $']"
            ]
          },
          "metadata": {},
          "execution_count": 5
        }
      ]
    },
    {
      "cell_type": "markdown",
      "source": [
        "Abbiamo una lista di studenti: studenti = [\"Alex\", \"Bob\", \"Cindy\", \"Dan\", \"Emma\", \"Faith\", \"Grace\", \"Henry\", \"Isabelle\", \"John\"] vogliamo dividere gli studenti in due squadre per un campionato di Uno nel seguente modo: selezioneremo i nomi in posizione pari per un squadra, e i nomi in posizione dispari per l'altra. Creiamo due liste per ogni squadra, e alla fine visualizziamole.\n",
        "\n",
        "*   Voce elenco\n",
        "*   Voce elenco\n",
        "\n"
      ],
      "metadata": {
        "id": "svsu1EJgFllR"
      }
    },
    {
      "cell_type": "code",
      "source": [
        "studenti = [\"Alex\", \"Bob\", \"Cindy\", \"Dan\", \"Emma\", \"Faith\", \"Grace\", \"Henry\", \"Isabelle\", \"John\"]\n",
        "squadra_pari = []\n",
        "squadra_dispari = []\n",
        "for indice,studente in enumerate(studenti):\n",
        "  if indice % 2 == 0:\n",
        "    squadra_pari.append(studente)\n",
        "  else:\n",
        "    squadra_dispari.append(studente)\n",
        "\n",
        "print(f'Squadra 1: {squadra_pari} \\nSquadra 2: {squadra_dispari}')"
      ],
      "metadata": {
        "colab": {
          "base_uri": "https://localhost:8080/"
        },
        "id": "rVPBk9ZbFn-w",
        "outputId": "2aaa3634-f4f2-464a-85a5-c5609282c940"
      },
      "execution_count": 37,
      "outputs": [
        {
          "output_type": "stream",
          "name": "stdout",
          "text": [
            "Squadra 1: ['Alex', 'Cindy', 'Emma', 'Grace', 'Isabelle'] \n",
            "Squadra 2: ['Bob', 'Dan', 'Faith', 'Henry', 'John']\n"
          ]
        }
      ]
    },
    {
      "cell_type": "markdown",
      "source": [
        "Abbiamo una lista con i guadagni degli ultimi 12 mesi (supponiamo da Gennaio a Dicembre): guadagni = [100, 90, 70, 40, 50, 80, 90, 120, 80, 20, 50, 50] dobbiamo confrontare, stampando tutto a video, il guadagno di ogni mese con la media dei guadagni precedenti, e specificare nell'output se il guadagno attuale è maggiore o minore della media dei precedenti."
      ],
      "metadata": {
        "id": "pyL2KH_LLaMK"
      }
    },
    {
      "cell_type": "code",
      "source": [
        "guadagni = [100, 90, 70, 40, 50, 80, 90, 120, 80, 20, 50, 50]\n",
        "\n",
        "media = []\n",
        "for indice, guadagno in enumerate(guadagni):\n",
        "  if indice > 0: #prendiamo in considerazione i numeri dopo l'indice 0\n",
        "    media.append(sum(guadagni[:indice]) / indice) #aggiungiamo alla lista media la somma di un sottogruppo contenente la somma dei guadagni precedenti all'indice in cui ci troviamo nel ciclo, diviso il numero dell'indice stesso(=media precedente all'indice in cui siamo)\n",
        "  else:\n",
        "    media.append(None) #risultato che mi dà se provo a stampare media ad indice 0\n",
        "  if media[indice] is not None:\n",
        "    print(f\"Mese {indice + 1}: {guadagno} - {'Maggiore' if guadagno > media[indice] else 'Minore'} della media precedente ({media[indice]})\") #indice + 1 ci fa escludere il primo indice nullo e ci permette anche un reindex\n",
        "  else:\n",
        "    print(f\"Mese {indice + 1}: {guadagno}\")\n"
      ],
      "metadata": {
        "colab": {
          "base_uri": "https://localhost:8080/"
        },
        "id": "AxgjGuYBXoWy",
        "outputId": "51cf310b-d346-4e3b-c7d8-16896a667fdb"
      },
      "execution_count": 91,
      "outputs": [
        {
          "output_type": "stream",
          "name": "stdout",
          "text": [
            "Mese 1: 100\n",
            "Mese 2: 90 - Minore della media precedente (100.0)\n",
            "Mese 3: 70 - Minore della media precedente (95.0)\n",
            "Mese 4: 40 - Minore della media precedente (86.66666666666667)\n",
            "Mese 5: 50 - Minore della media precedente (75.0)\n",
            "Mese 6: 80 - Maggiore della media precedente (70.0)\n",
            "Mese 7: 90 - Maggiore della media precedente (71.66666666666667)\n",
            "Mese 8: 120 - Maggiore della media precedente (74.28571428571429)\n",
            "Mese 9: 80 - Minore della media precedente (80.0)\n",
            "Mese 10: 20 - Minore della media precedente (80.0)\n",
            "Mese 11: 50 - Minore della media precedente (74.0)\n",
            "Mese 12: 50 - Minore della media precedente (71.81818181818181)\n"
          ]
        }
      ]
    }
  ]
}